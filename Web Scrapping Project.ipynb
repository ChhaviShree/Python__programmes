{
 "cells": [
  {
   "cell_type": "code",
   "execution_count": 1,
   "id": "1a7afee5",
   "metadata": {},
   "outputs": [
    {
     "name": "stdout",
     "output_type": "stream",
     "text": [
      "importing Jupyter notebook from connect.ipynb\n"
     ]
    }
   ],
   "source": [
    "from urllib.request import Request, urlopen\n",
    "from bs4 import BeautifulSoup \n",
    "import pandas\n",
    "##import argparse\n",
    "import import_ipynb\n",
    "import connect\n",
    "##import requests ## using this getting an error 403 forbidden"
   ]
  },
  {
   "cell_type": "code",
   "execution_count": 2,
   "id": "5f4310b0",
   "metadata": {},
   "outputs": [],
   "source": [
    "##parser=argparse.ArgumentParser()\n",
    "##parser.add_argument('--page_num_max',help=\"Enter the number of pages to parse\",type=int)\n",
    "##parser.add_argument('--dbname',help=\"Enter the number of pages to parse\",type=int)\n",
    "##args=parser.parse_args('')\n",
    "## getting error with args=parser.parse_args()"
   ]
  },
  {
   "cell_type": "code",
   "execution_count": 2,
   "id": "4724bb79",
   "metadata": {},
   "outputs": [],
   "source": [
    "##req=requests.get(oyo_url)\n",
    "##content=req.content\n",
    "oyo_url=\"https://www.oyorooms.com/hotels-in-bangalore/\"\n",
    "req = Request(oyo_url , headers={'User-Agent': 'Mozilla/5.0'})\n",
    "content = urlopen(req).read()\n",
    "scraped_info_list=[]\n",
    "##connect.connect(args.dbname)"
   ]
  },
  {
   "cell_type": "code",
   "execution_count": 3,
   "id": "01670ba5",
   "metadata": {},
   "outputs": [
    {
     "name": "stdout",
     "output_type": "stream",
     "text": [
      "OYO 11916 Varcity Plaza Near Cross Road, Maruti Nagar, Bangalore ₹1474 (893 Ratings) []\n",
      "OYO 1097 Hotel Sky Land Near Manthri Mall, Banglore ₹1382 (1 Ratings) []\n",
      "OYO 63230 Exotica Hotels Near Jayadeva Flyover, BTM Layout, Bangalore ₹1573 (924 Ratings) []\n",
      "OYO 79223 Exotic Stay BSK 3rd Stage South, Bangalore ₹1397 (688 Ratings) []\n",
      "OYO 15358 Hotel Townhall Near Dhanlakshmi Bank, JC Road, Bangalore ₹1014 (618 Ratings) []\n",
      "Capital O 73834 Silver Suites Near manjunatha medicals, Hebbal Kempapura, Bangalore ₹1598 (186 Ratings) []\n",
      "OYO 435 Hotel Amshi International Near Freedom Park, Gandhi Nagar, Bangalore ₹1014 (185 Ratings) []\n",
      "OYO 72492 A K Residency Centrally Located, Near S T Bed, Koramangala 1st Block, Bangalore ₹1312 (185 Ratings) []\n",
      "SPOT ON 39787 Radha Krishna Deluxe Lodge Near Cottonpet Main Road, Bangalore ₹581 (185 Ratings) []\n",
      "Capital O BLR2499 Comfort Delight Hotel  India, Bangalore ₹1655 (362 Ratings) []\n",
      "SPOT ON 48822 Balaji Residency Near RTO Office, Yeshwanthpur, Bangalore ₹1272 (719 Ratings) []\n",
      "OYO 9605 Hotel Golden Inn Centrally Located, Near HKP Road, Shivaji Nagar, Bangalore ₹1302 (725 Ratings) []\n",
      "OYO 9991 Sai Ram Residency Cubbonpet Main Road, Bangalore ₹1240 (200 Ratings) []\n",
      "OYO 10821 Sree Balaji Residency Agrahara Dasarahalli, Rajaji Nagar, Bangalore ₹1784 (627 Ratings) []\n",
      "OYO 11915 Varcity Park Near SV Hospitals, Madiwala, Bangalore ₹1545 (1058 Ratings) []\n",
      "CAPITAL O75993 Hotel Shanti Nivas Near Yeshwanthpur , Sri Raghavendra Layout, Bangalore ₹1680 (536 Ratings) []\n",
      "OYO 79381 Dm Residency Rajarajeshwari Nagar Zone, Bangalore ₹1420 (536 Ratings) []\n",
      "OYO 26900 Royal Inn Near 14th Main Road, Rajaji Nagar, Bangalore ₹1408 (536 Ratings) []\n",
      "OYO 24259 Hotel Blue Inn Near Bilal masjid, Gurappanapalya, Bangalore ₹1216 (694 Ratings) []\n",
      "OYO 23627 Grand Residency Near Lumbini Garden, Kempapur, Bangalore ₹1525 (204 Ratings) []\n"
     ]
    }
   ],
   "source": [
    "##for page_num in range(1,page_num_MAX):\n",
    "soup=BeautifulSoup(content,\"html.parser\")\n",
    "\n",
    "all_hotels=soup.find_all(\"div\",{\"class\":\"hotelCardListing\"})\n",
    "for hotel in all_hotels:\n",
    "    hotel_name=hotel.find(\"h3\",{\"class\":\"listingHotelDescription__hotelName\"}).text\n",
    "    hotel_address=hotel.find(\"span\",{\"itemprop\":\"streetAddress\"}).text\n",
    "    hotel_price=hotel.find(\"span\",{\"class\":\"listingPrice__finalPrice\"}).text\n",
    "    \n",
    "    try:\n",
    "        hotel_rating=hotel.find(\"span\",{\"class\":\"hotelRating__ratingSummary\"}).text\n",
    "    except AttributeError:\n",
    "        pass\n",
    "    \n",
    "    parent_amenities_element=hotel.find(\"div\",{\"class\":\"amenityWrapper\"})\n",
    "    \n",
    "    amenities_list=[]\n",
    "    for amenity in parent_amenities_element.find_all(\"div\",{\"class\":\"amenityWrapper_amenity\"}):\n",
    "        amenities_list.append(amenity.find(\"span\",{\"class\":\"d-body-sm\"}).text.strip())\n",
    "        \n",
    "        hotel_dict[\"amenities\"]=','.join(amenities_list[:-1])\n",
    "        \n",
    "        scraped_info_list.append(hotel_dict)\n",
    "        connect.insert_into_table(args.dbname,tuple(hotel_dict.values()))\n",
    "        \n",
    "    print(hotel_name,hotel_address,hotel_price,hotel_rating,amenities_list)\n",
    "dataFrame=pandas.DataFrame(scraped_info_list)\n",
    "dataFrame.to_csv(\"Oyo.csv\")\n",
    "##connect.get_hotel_info(args.dbname)"
   ]
  },
  {
   "cell_type": "code",
   "execution_count": null,
   "id": "2ab27569",
   "metadata": {},
   "outputs": [],
   "source": []
  }
 ],
 "metadata": {
  "kernelspec": {
   "display_name": "Python 3",
   "language": "python",
   "name": "python3"
  },
  "language_info": {
   "codemirror_mode": {
    "name": "ipython",
    "version": 3
   },
   "file_extension": ".py",
   "mimetype": "text/x-python",
   "name": "python",
   "nbconvert_exporter": "python",
   "pygments_lexer": "ipython3",
   "version": "3.8.8"
  }
 },
 "nbformat": 4,
 "nbformat_minor": 5
}
