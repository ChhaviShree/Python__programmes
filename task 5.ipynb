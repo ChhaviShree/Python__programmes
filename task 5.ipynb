{
 "cells": [
  {
   "cell_type": "markdown",
   "id": "2fe8686d",
   "metadata": {},
   "source": [
    "### Write Python code to create a function called most_frequent that takes a string and prints the letters in decreasing order of frequency. Use dictionaries."
   ]
  },
  {
   "cell_type": "code",
   "execution_count": 5,
   "id": "b402c9c2",
   "metadata": {},
   "outputs": [],
   "source": [
    "def most_frequent(str):\n",
    "    di=dict()\n",
    "    count=0\n",
    "    a=set(str)\n",
    "    b=list(a)\n",
    "    for j in b:\n",
    "        for i in str:\n",
    "            if j==i:\n",
    "                count+=1\n",
    "        di.update({j:count})\n",
    "        count=0\n",
    "    new1=sorted(di.items(),key=lambda x:x[1],reverse=True)\n",
    "    new2=dict(new1)\n",
    "    print(new2)"
   ]
  },
  {
   "cell_type": "code",
   "execution_count": 6,
   "id": "84cd5b8b",
   "metadata": {},
   "outputs": [
    {
     "name": "stdout",
     "output_type": "stream",
     "text": [
      "{'i': 4, 's': 4, 'p': 2, 'M': 1}\n"
     ]
    }
   ],
   "source": [
    "most_frequent('Mississippi')"
   ]
  },
  {
   "cell_type": "code",
   "execution_count": null,
   "id": "a3795ba1",
   "metadata": {},
   "outputs": [],
   "source": []
  }
 ],
 "metadata": {
  "kernelspec": {
   "display_name": "Python 3",
   "language": "python",
   "name": "python3"
  },
  "language_info": {
   "codemirror_mode": {
    "name": "ipython",
    "version": 3
   },
   "file_extension": ".py",
   "mimetype": "text/x-python",
   "name": "python",
   "nbconvert_exporter": "python",
   "pygments_lexer": "ipython3",
   "version": "3.8.8"
  }
 },
 "nbformat": 4,
 "nbformat_minor": 5
}
