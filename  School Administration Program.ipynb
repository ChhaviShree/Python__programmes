{
 "cells": [
  {
   "cell_type": "code",
   "execution_count": 1,
   "id": "4bdf7d28",
   "metadata": {},
   "outputs": [],
   "source": [
    "import csv"
   ]
  },
  {
   "cell_type": "code",
   "execution_count": 2,
   "id": "a6b9102c",
   "metadata": {},
   "outputs": [],
   "source": [
    "def write_into_csv(info_list):\n",
    "    with open('student_info.csv','a',newline='') as csv_file:\n",
    "        writer=csv.writer(csv_file)\n",
    "        if csv_file.tell()==0:\n",
    "            writer.writerow(['Name','Age','Contact number','E-mail ID'])\n",
    "        writer.writerow(info_list)"
   ]
  },
  {
   "cell_type": "code",
   "execution_count": 3,
   "id": "07ed5b18",
   "metadata": {},
   "outputs": [
    {
     "name": "stdout",
     "output_type": "stream",
     "text": [
      "Enter student information in the following format(Name Age Contact_Number E-mail_ID): chhavi 18 474383798989292 abc@gmail.com\n",
      "\n",
      " The entered information is -\n",
      "Name: chhavi\n",
      "Age: 18\n",
      "Contact_number: 474383798989292\n",
      "E-mail ID: abc@gmail.com\n",
      "Is the entered information correct? (yes/no): yes\n",
      "Enter (yes/no) if you want to enter information for another student: yes\n",
      "Enter student information in the following format(Name Age Contact_Number E-mail_ID): anshu 18 283893432898 xyz@gmail.com\n",
      "\n",
      " The entered information is -\n",
      "Name: anshu\n",
      "Age: 18\n",
      "Contact_number: 283893432898\n",
      "E-mail ID: xyz@gmail.com\n",
      "Is the entered information correct? (yes/no): yes\n",
      "Enter (yes/no) if you want to enter information for another student: no\n"
     ]
    }
   ],
   "source": [
    "if __name__== '__main__':\n",
    "    condition= True\n",
    "    student_num= 1\n",
    "    while(condition):\n",
    "        student_info=input('Enter student information in the following format(Name Age Contact_Number E-mail_ID): ')\n",
    "        student_info_list=student_info.split(' ')\n",
    "        print('\\n The entered information is -\\nName: {}\\nAge: {}\\nContact_number: {}\\nE-mail ID: {}'\n",
    "              .format(student_info_list[0], student_info_list[1], student_info_list[2], student_info_list[3]))\n",
    "        choice_check=input('Is the entered information correct? (yes/no): ')\n",
    "        if choice_check=='yes':\n",
    "            write_into_csv(student_info_list)\n",
    "            \n",
    "            condition_check=input('Enter (yes/no) if you want to enter information for another student: ')\n",
    "            if condition_check=='yes':\n",
    "                condition= True\n",
    "                student_num=student_num + 1\n",
    "            elif condition_check =='no':\n",
    "                condition= False\n",
    "        elif choice_check =='no':\n",
    "            print('\\nPlease re-enter the values! ')"
   ]
  },
  {
   "cell_type": "code",
   "execution_count": null,
   "id": "dc15a15f",
   "metadata": {},
   "outputs": [],
   "source": []
  }
 ],
 "metadata": {
  "kernelspec": {
   "display_name": "Python 3",
   "language": "python",
   "name": "python3"
  },
  "language_info": {
   "codemirror_mode": {
    "name": "ipython",
    "version": 3
   },
   "file_extension": ".py",
   "mimetype": "text/x-python",
   "name": "python",
   "nbconvert_exporter": "python",
   "pygments_lexer": "ipython3",
   "version": "3.8.8"
  }
 },
 "nbformat": 4,
 "nbformat_minor": 5
}
