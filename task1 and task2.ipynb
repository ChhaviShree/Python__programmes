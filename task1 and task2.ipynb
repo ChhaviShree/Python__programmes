{
 "cells": [
  {
   "cell_type": "code",
   "execution_count": 1,
   "id": "0426c638",
   "metadata": {},
   "outputs": [
    {
     "name": "stdout",
     "output_type": "stream",
     "text": [
      "Input the radius of circle:1.1\n",
      "Area of the circle with radius 1.1 is: 3.8013271108436504\n"
     ]
    }
   ],
   "source": [
    "## task 1\n",
    "import math\n",
    "radius=float(input('Input the radius of circle:' ))\n",
    "area=math.pi*(radius**2)\n",
    "print(f'Area of the circle with radius {radius} is: {area}')"
   ]
  },
  {
   "cell_type": "code",
   "execution_count": 2,
   "id": "04c3643e",
   "metadata": {},
   "outputs": [
    {
     "name": "stdout",
     "output_type": "stream",
     "text": [
      "Input the filename: abc.py\n",
      "The extension of the file is: python\n"
     ]
    }
   ],
   "source": [
    "## task 2\n",
    "dict={'py':'python','cpp':'c++','java':'java','c':'c'}\n",
    "filename=input('Input the filename: ')\n",
    "for i in dict.keys():\n",
    "    if i==filename.split('.')[1]:\n",
    "        print(f'The extension of the file is: {dict.get(i)}')"
   ]
  },
  {
   "cell_type": "code",
   "execution_count": null,
   "id": "f20324e1",
   "metadata": {},
   "outputs": [],
   "source": []
  }
 ],
 "metadata": {
  "kernelspec": {
   "display_name": "Python 3",
   "language": "python",
   "name": "python3"
  },
  "language_info": {
   "codemirror_mode": {
    "name": "ipython",
    "version": 3
   },
   "file_extension": ".py",
   "mimetype": "text/x-python",
   "name": "python",
   "nbconvert_exporter": "python",
   "pygments_lexer": "ipython3",
   "version": "3.8.8"
  }
 },
 "nbformat": 4,
 "nbformat_minor": 5
}
