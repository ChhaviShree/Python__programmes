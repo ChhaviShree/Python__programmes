{
 "cells": [
  {
   "cell_type": "code",
   "execution_count": 5,
   "id": "135e0254",
   "metadata": {},
   "outputs": [],
   "source": [
    "## datbases:organized collection of data,generally stored and accessed electronically\n",
    "import sqlite3"
   ]
  },
  {
   "cell_type": "code",
   "execution_count": 6,
   "id": "675e784f",
   "metadata": {},
   "outputs": [],
   "source": [
    "def connect(dbname):\n",
    "    conn=sqlite3.connect(dbname)\n",
    "    conn.execute('CREATE TABLE IF NOT EXIST OYO_HOTELS(NAME TEXT ADDRESS TEXT,PRICE INT,AMENITIES TEXT,RATING TEXT)')\n",
    "    print('Table Created Successfully')\n",
    "    conn.close()"
   ]
  },
  {
   "cell_type": "code",
   "execution_count": 7,
   "id": "9912ffeb",
   "metadata": {},
   "outputs": [],
   "source": [
    "def insert_into_table(dbname,values):\n",
    "    conn=sqlite3.connect(dbname)\n",
    "    insert_sql='INSERT INTO OYO_HOTELS(NAME,ADDRESS,PRICE,AMENITIES,RATING)VALUES(?,?,?,?,?)'\n",
    "    conn.execute(insert_sql,values)\n",
    "    conn.commit()\n",
    "    conn.close()"
   ]
  },
  {
   "cell_type": "code",
   "execution_count": 8,
   "id": "861134af",
   "metadata": {},
   "outputs": [],
   "source": [
    "def get_hotel_info(dbname):\n",
    "    conn=sqlite3.connect(dbname)\n",
    "    cur=conn.cursor()\n",
    "    cur.execute('SELECT * FROM OYO_HOTELS')\n",
    "    table_data=cur.fetchall()\n",
    "    \n",
    "    for record in table_data:\n",
    "        print(record)\n",
    "    conn.close()"
   ]
  },
  {
   "cell_type": "code",
   "execution_count": null,
   "id": "e459d886",
   "metadata": {},
   "outputs": [],
   "source": []
  }
 ],
 "metadata": {
  "kernelspec": {
   "display_name": "Python 3",
   "language": "python",
   "name": "python3"
  },
  "language_info": {
   "codemirror_mode": {
    "name": "ipython",
    "version": 3
   },
   "file_extension": ".py",
   "mimetype": "text/x-python",
   "name": "python",
   "nbconvert_exporter": "python",
   "pygments_lexer": "ipython3",
   "version": "3.8.8"
  }
 },
 "nbformat": 4,
 "nbformat_minor": 5
}
