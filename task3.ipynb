{
 "cells": [
  {
   "cell_type": "markdown",
   "id": "58d6d532",
   "metadata": {},
   "source": [
    "## Write a Python program to print all positive numbers in a range."
   ]
  },
  {
   "cell_type": "markdown",
   "id": "a3bb0013",
   "metadata": {},
   "source": [
    "## 1."
   ]
  },
  {
   "cell_type": "code",
   "execution_count": 1,
   "id": "9660813a",
   "metadata": {},
   "outputs": [],
   "source": [
    "def mylist(list1):\n",
    "    list2=[i for i in list1 if i>0]\n",
    "    print(list2)"
   ]
  },
  {
   "cell_type": "code",
   "execution_count": 2,
   "id": "e7b40839",
   "metadata": {},
   "outputs": [
    {
     "name": "stdout",
     "output_type": "stream",
     "text": [
      "[4, 5, 1]\n"
     ]
    }
   ],
   "source": [
    "mylist([-2,-3,4,5,1,-2])"
   ]
  },
  {
   "cell_type": "markdown",
   "id": "ea74aeda",
   "metadata": {},
   "source": [
    "## 2."
   ]
  },
  {
   "cell_type": "code",
   "execution_count": 3,
   "id": "f454ad1e",
   "metadata": {},
   "outputs": [
    {
     "name": "stdout",
     "output_type": "stream",
     "text": [
      "Enter no of elements: 4\n",
      "-1\n",
      "2\n",
      "3\n",
      "4\n",
      "[2, 3, 4]\n"
     ]
    }
   ],
   "source": [
    "list1=[]\n",
    "n=int(input('Enter no of elements: '))\n",
    "for a in range(0,n):\n",
    "    b=int(input())\n",
    "    list1.append(b)\n",
    "list2=[i for i in list1 if i>0]\n",
    "print(list2)"
   ]
  },
  {
   "cell_type": "code",
   "execution_count": null,
   "id": "b92c628d",
   "metadata": {},
   "outputs": [],
   "source": []
  }
 ],
 "metadata": {
  "kernelspec": {
   "display_name": "Python 3",
   "language": "python",
   "name": "python3"
  },
  "language_info": {
   "codemirror_mode": {
    "name": "ipython",
    "version": 3
   },
   "file_extension": ".py",
   "mimetype": "text/x-python",
   "name": "python",
   "nbconvert_exporter": "python",
   "pygments_lexer": "ipython3",
   "version": "3.8.8"
  }
 },
 "nbformat": 4,
 "nbformat_minor": 5
}
